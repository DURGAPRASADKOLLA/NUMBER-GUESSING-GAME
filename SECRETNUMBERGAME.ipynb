{
 "cells": [
  {
   "cell_type": "code",
   "execution_count": 2,
   "id": "24f1f0d1-88fb-4d68-880d-64f4e0533c16",
   "metadata": {},
   "outputs": [
    {
     "name": "stdout",
     "output_type": "stream",
     "text": [
      "SECRET NUMBER GAME\n",
      "YOU HAVE GUESS A CORRECT NUMBER WITHIN THE ABOVE RANGE\n"
     ]
    },
    {
     "name": "stdin",
     "output_type": "stream",
     "text": [
      "enter a number 8\n"
     ]
    },
    {
     "name": "stdout",
     "output_type": "stream",
     "text": [
      "too low,enter a heigher number\n"
     ]
    },
    {
     "name": "stdin",
     "output_type": "stream",
     "text": [
      "enter a number 12\n"
     ]
    },
    {
     "name": "stdout",
     "output_type": "stream",
     "text": [
      "too low,enter a heigher number\n"
     ]
    },
    {
     "name": "stdin",
     "output_type": "stream",
     "text": [
      "enter a number 14\n"
     ]
    },
    {
     "name": "stdout",
     "output_type": "stream",
     "text": [
      "too low,enter a heigher number\n"
     ]
    },
    {
     "name": "stdin",
     "output_type": "stream",
     "text": [
      "enter a number 15\n"
     ]
    },
    {
     "name": "stdout",
     "output_type": "stream",
     "text": [
      "congratulations you won\n"
     ]
    }
   ],
   "source": [
    "import random\n",
    "secret_number=random.randint(1,15)\n",
    "attempts=0\n",
    "max_attempts=5\n",
    "print(\"SECRET NUMBER GAME\")\n",
    "print(\"YOU HAVE GUESS A CORRECT NUMBER WITHIN THE ABOVE RANGE\")\n",
    "while attempts<=max_attempts:\n",
    "    guess=int(input(\"enter a number\"))\n",
    "    if guess==secret_number:\n",
    "        print(\"congratulations you won\")\n",
    "        break\n",
    "    elif guess<secret_number:\n",
    "        print(\"too low,enter a heigher number\")\n",
    "    else:\n",
    "        print(\"too high,enter a lower number\")\n",
    "    attempts=attempts+1\n",
    "else:\n",
    "    print(\"Better luck next time\")"
   ]
  },
  {
   "cell_type": "code",
   "execution_count": null,
   "id": "eff6094c-d209-4380-b382-785cea46ce58",
   "metadata": {},
   "outputs": [],
   "source": []
  }
 ],
 "metadata": {
  "kernelspec": {
   "display_name": "Python 3 (ipykernel)",
   "language": "python",
   "name": "python3"
  },
  "language_info": {
   "codemirror_mode": {
    "name": "ipython",
    "version": 3
   },
   "file_extension": ".py",
   "mimetype": "text/x-python",
   "name": "python",
   "nbconvert_exporter": "python",
   "pygments_lexer": "ipython3",
   "version": "3.11.4"
  }
 },
 "nbformat": 4,
 "nbformat_minor": 5
}
